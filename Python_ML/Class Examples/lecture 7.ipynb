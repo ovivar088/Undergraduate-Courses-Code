{
 "cells": [
  {
   "cell_type": "code",
   "execution_count": null,
   "id": "38d8a935",
   "metadata": {},
   "outputs": [],
   "source": [
    "import numpy as np\n",
    "import pandas as pd\n",
    "import matplotlib.pyplot as plt"
   ]
  },
  {
   "cell_type": "markdown",
   "id": "e11fd3d6",
   "metadata": {},
   "source": [
    "# **First step:**\n",
    "\n",
    "Read the csv file into a dataframe"
   ]
  },
  {
   "cell_type": "code",
   "execution_count": null,
   "id": "fb85a2fe",
   "metadata": {},
   "outputs": [],
   "source": [
    "housing_df = pd.read_csv('housing.csv')"
   ]
  },
  {
   "cell_type": "markdown",
   "id": "33f703b3",
   "metadata": {},
   "source": [
    "# Column labels:"
   ]
  },
  {
   "cell_type": "code",
   "execution_count": null,
   "id": "2d6f8a5e",
   "metadata": {},
   "outputs": [],
   "source": [
    "housing_df.columns"
   ]
  },
  {
   "cell_type": "code",
   "execution_count": null,
   "id": "95e59a23",
   "metadata": {},
   "outputs": [],
   "source": [
    "len(housing_df.columns)"
   ]
  },
  {
   "cell_type": "code",
   "execution_count": null,
   "id": "1db46f45",
   "metadata": {},
   "outputs": [],
   "source": [
    "plt.plot(np.log(housing_df['LotArea']),np.log(housing_df['SalePrice']),'.')\n"
   ]
  },
  {
   "cell_type": "code",
   "execution_count": null,
   "id": "69eade19",
   "metadata": {},
   "outputs": [],
   "source": [
    "plt.plot(housing_df['Heating'],housing_df['SalePrice'],'.')"
   ]
  },
  {
   "cell_type": "markdown",
   "id": "dd01a88b",
   "metadata": {},
   "source": [
    "## Categorical variable:\n",
    "\n",
    "From the plot we see that Heating is a categortical variable which takes 6 different values:\n",
    "- GasA\n",
    "- GasW\n",
    "- Grav\n",
    "- Wall\n",
    "- OthW\n",
    "- Floor"
   ]
  },
  {
   "cell_type": "code",
   "execution_count": null,
   "id": "7e7fc84a",
   "metadata": {},
   "outputs": [],
   "source": [
    "housing_df.loc[housing_df['Heating'] == 'GasA']\n"
   ]
  },
  {
   "cell_type": "code",
   "execution_count": null,
   "id": "aef9744b",
   "metadata": {},
   "outputs": [],
   "source": [
    "housing_df.loc[housing_df['Heating'] == 'GasW']\n"
   ]
  },
  {
   "cell_type": "code",
   "execution_count": null,
   "id": "3df65a28",
   "metadata": {},
   "outputs": [],
   "source": [
    "X = housing_df[['LotArea','YearBuilt']].to_numpy()\n",
    "Y = housing_df['SalePrice'].to_numpy()\n",
    "# add column of all ones\n",
    "\n",
    "X_size = X.shape\n",
    "X_expanded = np.ones((X_size[0],3))\n",
    "X_expanded[:,1:3] = X"
   ]
  },
  {
   "cell_type": "code",
   "execution_count": null,
   "id": "93325f12",
   "metadata": {},
   "outputs": [],
   "source": [
    "#plot price vs. LotArea\n",
    "plt.plot(X_expanded[:,1],Y,'.')"
   ]
  },
  {
   "cell_type": "code",
   "execution_count": null,
   "id": "a2f64a81",
   "metadata": {},
   "outputs": [],
   "source": [
    "#plot price vs. YearBuilt\n",
    "plt.plot(X_expanded[:,2],Y,'.')"
   ]
  },
  {
   "cell_type": "markdown",
   "id": "f99259a9",
   "metadata": {},
   "source": [
    "# Factor of determination $R^2$:\n",
    "To see how $R^2$ can show the quality of our linear regression model, we compare two simple cases:\n",
    "- YearBuilt and LotArea with no intercept\n",
    "- YearBuilt and LotArea with intercept"
   ]
  },
  {
   "cell_type": "markdown",
   "id": "84f25c1d",
   "metadata": {},
   "source": [
    "### YearBuilt and LotArea with no intercept"
   ]
  },
  {
   "cell_type": "code",
   "execution_count": null,
   "id": "b11a6789",
   "metadata": {},
   "outputs": [],
   "source": [
    "theta0=np.linalg.inv((X.T@X))@X.T@Y\n",
    "E = Y-X@theta0\n",
    "SSR0 = sum(E**2)\n",
    "print(theta0)"
   ]
  },
  {
   "cell_type": "code",
   "execution_count": null,
   "id": "7610ae0d",
   "metadata": {},
   "outputs": [],
   "source": [
    "E.shape"
   ]
  },
  {
   "cell_type": "markdown",
   "id": "7ddb1752",
   "metadata": {},
   "source": [
    "### YearBuilt and LotArea with intercept"
   ]
  },
  {
   "cell_type": "code",
   "execution_count": null,
   "id": "337ffa00",
   "metadata": {},
   "outputs": [],
   "source": [
    "theta1=np.linalg.inv((X_expanded.T@X_expanded))@X_expanded.T@Y\n",
    "E1 = Y-X_expanded@theta1\n",
    "SSR1 = sum(E1**2)\n",
    "print(theta1)"
   ]
  },
  {
   "cell_type": "markdown",
   "id": "c680aedb",
   "metadata": {},
   "source": [
    "### Compute SSTO"
   ]
  },
  {
   "cell_type": "code",
   "execution_count": null,
   "id": "89025373",
   "metadata": {},
   "outputs": [],
   "source": [
    "SSTO = sum((Y-np.mean(Y))**2)"
   ]
  },
  {
   "cell_type": "markdown",
   "id": "8536561c",
   "metadata": {},
   "source": [
    "### Compute $R^2$ for each model"
   ]
  },
  {
   "cell_type": "code",
   "execution_count": null,
   "id": "2645e4fa",
   "metadata": {},
   "outputs": [],
   "source": [
    "# with no intercept\n",
    "R2_0 = 1-SSR0/SSTO\n",
    "print(R2_0)"
   ]
  },
  {
   "cell_type": "code",
   "execution_count": null,
   "id": "69d4899d",
   "metadata": {},
   "outputs": [],
   "source": [
    "# with intercept\n",
    "R2_1= 1-SSR1/SSTO\n",
    "print(R2_1)"
   ]
  },
  {
   "cell_type": "code",
   "execution_count": null,
   "id": "4d8ee452",
   "metadata": {},
   "outputs": [],
   "source": []
  }
 ],
 "metadata": {
  "kernelspec": {
   "display_name": "Python 3 (ipykernel)",
   "language": "python",
   "name": "python3"
  },
  "language_info": {
   "codemirror_mode": {
    "name": "ipython",
    "version": 3
   },
   "file_extension": ".py",
   "mimetype": "text/x-python",
   "name": "python",
   "nbconvert_exporter": "python",
   "pygments_lexer": "ipython3",
   "version": "3.9.7"
  }
 },
 "nbformat": 4,
 "nbformat_minor": 5
}
