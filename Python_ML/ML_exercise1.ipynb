{
 "cells": [
  {
   "cell_type": "markdown",
   "source": [
    "Machine Learning Exercise 1\n",
    "\n",
    "Osiel Vivar - ov35 "
   ],
   "metadata": {}
  },
  {
   "cell_type": "code",
   "execution_count": 2,
   "source": [
    "#Include libararies panda and numpy\n",
    "\n",
    "import pandas as pd\n",
    "import numpy as np\n",
    "import matplotlib.pyplot as plt"
   ],
   "outputs": [],
   "metadata": {}
  },
  {
   "cell_type": "code",
   "execution_count": 3,
   "source": [
    "#import data\n",
    "housing_df = pd.read_csv(\"housing.csv\")\n",
    "housing_df.head() #preview the data"
   ],
   "outputs": [
    {
     "output_type": "execute_result",
     "data": {
      "text/html": [
       "<div>\n",
       "<style scoped>\n",
       "    .dataframe tbody tr th:only-of-type {\n",
       "        vertical-align: middle;\n",
       "    }\n",
       "\n",
       "    .dataframe tbody tr th {\n",
       "        vertical-align: top;\n",
       "    }\n",
       "\n",
       "    .dataframe thead th {\n",
       "        text-align: right;\n",
       "    }\n",
       "</style>\n",
       "<table border=\"1\" class=\"dataframe\">\n",
       "  <thead>\n",
       "    <tr style=\"text-align: right;\">\n",
       "      <th></th>\n",
       "      <th>Id</th>\n",
       "      <th>MSSubClass</th>\n",
       "      <th>LotFrontage</th>\n",
       "      <th>LotArea</th>\n",
       "      <th>Street</th>\n",
       "      <th>BldgType</th>\n",
       "      <th>OverallQual</th>\n",
       "      <th>YearBuilt</th>\n",
       "      <th>TotalBsmtSF</th>\n",
       "      <th>FullBath</th>\n",
       "      <th>HalfBath</th>\n",
       "      <th>Fireplaces</th>\n",
       "      <th>FireplaceQu</th>\n",
       "      <th>GarageType</th>\n",
       "      <th>GarageYrBlt</th>\n",
       "      <th>GarageFinish</th>\n",
       "      <th>GarageCars</th>\n",
       "      <th>GarageArea</th>\n",
       "      <th>SalePrice</th>\n",
       "    </tr>\n",
       "  </thead>\n",
       "  <tbody>\n",
       "    <tr>\n",
       "      <th>0</th>\n",
       "      <td>1</td>\n",
       "      <td>60</td>\n",
       "      <td>65.0</td>\n",
       "      <td>8450</td>\n",
       "      <td>Pave</td>\n",
       "      <td>1Fam</td>\n",
       "      <td>7</td>\n",
       "      <td>2003</td>\n",
       "      <td>856</td>\n",
       "      <td>2</td>\n",
       "      <td>1</td>\n",
       "      <td>0</td>\n",
       "      <td>NaN</td>\n",
       "      <td>Attchd</td>\n",
       "      <td>2003.0</td>\n",
       "      <td>RFn</td>\n",
       "      <td>2</td>\n",
       "      <td>548</td>\n",
       "      <td>208500</td>\n",
       "    </tr>\n",
       "    <tr>\n",
       "      <th>1</th>\n",
       "      <td>2</td>\n",
       "      <td>20</td>\n",
       "      <td>80.0</td>\n",
       "      <td>9600</td>\n",
       "      <td>Pave</td>\n",
       "      <td>1Fam</td>\n",
       "      <td>6</td>\n",
       "      <td>1976</td>\n",
       "      <td>1262</td>\n",
       "      <td>2</td>\n",
       "      <td>0</td>\n",
       "      <td>1</td>\n",
       "      <td>TA</td>\n",
       "      <td>Attchd</td>\n",
       "      <td>1976.0</td>\n",
       "      <td>RFn</td>\n",
       "      <td>2</td>\n",
       "      <td>460</td>\n",
       "      <td>181500</td>\n",
       "    </tr>\n",
       "    <tr>\n",
       "      <th>2</th>\n",
       "      <td>3</td>\n",
       "      <td>60</td>\n",
       "      <td>68.0</td>\n",
       "      <td>11250</td>\n",
       "      <td>Pave</td>\n",
       "      <td>1Fam</td>\n",
       "      <td>7</td>\n",
       "      <td>2001</td>\n",
       "      <td>920</td>\n",
       "      <td>2</td>\n",
       "      <td>1</td>\n",
       "      <td>1</td>\n",
       "      <td>TA</td>\n",
       "      <td>Attchd</td>\n",
       "      <td>2001.0</td>\n",
       "      <td>RFn</td>\n",
       "      <td>2</td>\n",
       "      <td>608</td>\n",
       "      <td>223500</td>\n",
       "    </tr>\n",
       "    <tr>\n",
       "      <th>3</th>\n",
       "      <td>4</td>\n",
       "      <td>70</td>\n",
       "      <td>60.0</td>\n",
       "      <td>9550</td>\n",
       "      <td>Pave</td>\n",
       "      <td>1Fam</td>\n",
       "      <td>7</td>\n",
       "      <td>1915</td>\n",
       "      <td>756</td>\n",
       "      <td>1</td>\n",
       "      <td>0</td>\n",
       "      <td>1</td>\n",
       "      <td>Gd</td>\n",
       "      <td>Detchd</td>\n",
       "      <td>1998.0</td>\n",
       "      <td>Unf</td>\n",
       "      <td>3</td>\n",
       "      <td>642</td>\n",
       "      <td>140000</td>\n",
       "    </tr>\n",
       "    <tr>\n",
       "      <th>4</th>\n",
       "      <td>5</td>\n",
       "      <td>60</td>\n",
       "      <td>84.0</td>\n",
       "      <td>14260</td>\n",
       "      <td>Pave</td>\n",
       "      <td>1Fam</td>\n",
       "      <td>8</td>\n",
       "      <td>2000</td>\n",
       "      <td>1145</td>\n",
       "      <td>2</td>\n",
       "      <td>1</td>\n",
       "      <td>1</td>\n",
       "      <td>TA</td>\n",
       "      <td>Attchd</td>\n",
       "      <td>2000.0</td>\n",
       "      <td>RFn</td>\n",
       "      <td>3</td>\n",
       "      <td>836</td>\n",
       "      <td>250000</td>\n",
       "    </tr>\n",
       "  </tbody>\n",
       "</table>\n",
       "</div>"
      ],
      "text/plain": [
       "   Id  MSSubClass  LotFrontage  LotArea Street BldgType  OverallQual  \\\n",
       "0   1          60         65.0     8450   Pave     1Fam            7   \n",
       "1   2          20         80.0     9600   Pave     1Fam            6   \n",
       "2   3          60         68.0    11250   Pave     1Fam            7   \n",
       "3   4          70         60.0     9550   Pave     1Fam            7   \n",
       "4   5          60         84.0    14260   Pave     1Fam            8   \n",
       "\n",
       "   YearBuilt  TotalBsmtSF  FullBath  HalfBath  Fireplaces FireplaceQu  \\\n",
       "0       2003          856         2         1           0         NaN   \n",
       "1       1976         1262         2         0           1          TA   \n",
       "2       2001          920         2         1           1          TA   \n",
       "3       1915          756         1         0           1          Gd   \n",
       "4       2000         1145         2         1           1          TA   \n",
       "\n",
       "  GarageType  GarageYrBlt GarageFinish  GarageCars  GarageArea  SalePrice  \n",
       "0     Attchd       2003.0          RFn           2         548     208500  \n",
       "1     Attchd       1976.0          RFn           2         460     181500  \n",
       "2     Attchd       2001.0          RFn           2         608     223500  \n",
       "3     Detchd       1998.0          Unf           3         642     140000  \n",
       "4     Attchd       2000.0          RFn           3         836     250000  "
      ]
     },
     "metadata": {},
     "execution_count": 3
    }
   ],
   "metadata": {}
  },
  {
   "cell_type": "code",
   "execution_count": 4,
   "source": [
    "#shape axes and dtypes are functions or features im presumming (a)\n",
    "print(housing_df.shape)\n",
    "print(housing_df.axes)\n",
    "print(housing_df.dtypes)"
   ],
   "outputs": [
    {
     "output_type": "stream",
     "name": "stdout",
     "text": [
      "(1460, 19)\n",
      "[RangeIndex(start=0, stop=1460, step=1), Index(['Id', 'MSSubClass', 'LotFrontage', 'LotArea', 'Street', 'BldgType',\n",
      "       'OverallQual', 'YearBuilt', 'TotalBsmtSF', 'FullBath', 'HalfBath',\n",
      "       'Fireplaces', 'FireplaceQu', 'GarageType', 'GarageYrBlt',\n",
      "       'GarageFinish', 'GarageCars', 'GarageArea', 'SalePrice'],\n",
      "      dtype='object')]\n",
      "Id                int64\n",
      "MSSubClass        int64\n",
      "LotFrontage     float64\n",
      "LotArea           int64\n",
      "Street           object\n",
      "BldgType         object\n",
      "OverallQual       int64\n",
      "YearBuilt         int64\n",
      "TotalBsmtSF       int64\n",
      "FullBath          int64\n",
      "HalfBath          int64\n",
      "Fireplaces        int64\n",
      "FireplaceQu      object\n",
      "GarageType       object\n",
      "GarageYrBlt     float64\n",
      "GarageFinish     object\n",
      "GarageCars        int64\n",
      "GarageArea        int64\n",
      "SalePrice         int64\n",
      "dtype: object\n"
     ]
    }
   ],
   "metadata": {}
  },
  {
   "cell_type": "code",
   "execution_count": 5,
   "source": [
    "housing_df.head(10) #print first 10 rows using head instead of default 5 (b)"
   ],
   "outputs": [
    {
     "output_type": "execute_result",
     "data": {
      "text/html": [
       "<div>\n",
       "<style scoped>\n",
       "    .dataframe tbody tr th:only-of-type {\n",
       "        vertical-align: middle;\n",
       "    }\n",
       "\n",
       "    .dataframe tbody tr th {\n",
       "        vertical-align: top;\n",
       "    }\n",
       "\n",
       "    .dataframe thead th {\n",
       "        text-align: right;\n",
       "    }\n",
       "</style>\n",
       "<table border=\"1\" class=\"dataframe\">\n",
       "  <thead>\n",
       "    <tr style=\"text-align: right;\">\n",
       "      <th></th>\n",
       "      <th>Id</th>\n",
       "      <th>MSSubClass</th>\n",
       "      <th>LotFrontage</th>\n",
       "      <th>LotArea</th>\n",
       "      <th>Street</th>\n",
       "      <th>BldgType</th>\n",
       "      <th>OverallQual</th>\n",
       "      <th>YearBuilt</th>\n",
       "      <th>TotalBsmtSF</th>\n",
       "      <th>FullBath</th>\n",
       "      <th>HalfBath</th>\n",
       "      <th>Fireplaces</th>\n",
       "      <th>FireplaceQu</th>\n",
       "      <th>GarageType</th>\n",
       "      <th>GarageYrBlt</th>\n",
       "      <th>GarageFinish</th>\n",
       "      <th>GarageCars</th>\n",
       "      <th>GarageArea</th>\n",
       "      <th>SalePrice</th>\n",
       "    </tr>\n",
       "  </thead>\n",
       "  <tbody>\n",
       "    <tr>\n",
       "      <th>0</th>\n",
       "      <td>1</td>\n",
       "      <td>60</td>\n",
       "      <td>65.0</td>\n",
       "      <td>8450</td>\n",
       "      <td>Pave</td>\n",
       "      <td>1Fam</td>\n",
       "      <td>7</td>\n",
       "      <td>2003</td>\n",
       "      <td>856</td>\n",
       "      <td>2</td>\n",
       "      <td>1</td>\n",
       "      <td>0</td>\n",
       "      <td>NaN</td>\n",
       "      <td>Attchd</td>\n",
       "      <td>2003.0</td>\n",
       "      <td>RFn</td>\n",
       "      <td>2</td>\n",
       "      <td>548</td>\n",
       "      <td>208500</td>\n",
       "    </tr>\n",
       "    <tr>\n",
       "      <th>1</th>\n",
       "      <td>2</td>\n",
       "      <td>20</td>\n",
       "      <td>80.0</td>\n",
       "      <td>9600</td>\n",
       "      <td>Pave</td>\n",
       "      <td>1Fam</td>\n",
       "      <td>6</td>\n",
       "      <td>1976</td>\n",
       "      <td>1262</td>\n",
       "      <td>2</td>\n",
       "      <td>0</td>\n",
       "      <td>1</td>\n",
       "      <td>TA</td>\n",
       "      <td>Attchd</td>\n",
       "      <td>1976.0</td>\n",
       "      <td>RFn</td>\n",
       "      <td>2</td>\n",
       "      <td>460</td>\n",
       "      <td>181500</td>\n",
       "    </tr>\n",
       "    <tr>\n",
       "      <th>2</th>\n",
       "      <td>3</td>\n",
       "      <td>60</td>\n",
       "      <td>68.0</td>\n",
       "      <td>11250</td>\n",
       "      <td>Pave</td>\n",
       "      <td>1Fam</td>\n",
       "      <td>7</td>\n",
       "      <td>2001</td>\n",
       "      <td>920</td>\n",
       "      <td>2</td>\n",
       "      <td>1</td>\n",
       "      <td>1</td>\n",
       "      <td>TA</td>\n",
       "      <td>Attchd</td>\n",
       "      <td>2001.0</td>\n",
       "      <td>RFn</td>\n",
       "      <td>2</td>\n",
       "      <td>608</td>\n",
       "      <td>223500</td>\n",
       "    </tr>\n",
       "    <tr>\n",
       "      <th>3</th>\n",
       "      <td>4</td>\n",
       "      <td>70</td>\n",
       "      <td>60.0</td>\n",
       "      <td>9550</td>\n",
       "      <td>Pave</td>\n",
       "      <td>1Fam</td>\n",
       "      <td>7</td>\n",
       "      <td>1915</td>\n",
       "      <td>756</td>\n",
       "      <td>1</td>\n",
       "      <td>0</td>\n",
       "      <td>1</td>\n",
       "      <td>Gd</td>\n",
       "      <td>Detchd</td>\n",
       "      <td>1998.0</td>\n",
       "      <td>Unf</td>\n",
       "      <td>3</td>\n",
       "      <td>642</td>\n",
       "      <td>140000</td>\n",
       "    </tr>\n",
       "    <tr>\n",
       "      <th>4</th>\n",
       "      <td>5</td>\n",
       "      <td>60</td>\n",
       "      <td>84.0</td>\n",
       "      <td>14260</td>\n",
       "      <td>Pave</td>\n",
       "      <td>1Fam</td>\n",
       "      <td>8</td>\n",
       "      <td>2000</td>\n",
       "      <td>1145</td>\n",
       "      <td>2</td>\n",
       "      <td>1</td>\n",
       "      <td>1</td>\n",
       "      <td>TA</td>\n",
       "      <td>Attchd</td>\n",
       "      <td>2000.0</td>\n",
       "      <td>RFn</td>\n",
       "      <td>3</td>\n",
       "      <td>836</td>\n",
       "      <td>250000</td>\n",
       "    </tr>\n",
       "    <tr>\n",
       "      <th>5</th>\n",
       "      <td>6</td>\n",
       "      <td>50</td>\n",
       "      <td>85.0</td>\n",
       "      <td>14115</td>\n",
       "      <td>Pave</td>\n",
       "      <td>1Fam</td>\n",
       "      <td>5</td>\n",
       "      <td>1993</td>\n",
       "      <td>796</td>\n",
       "      <td>1</td>\n",
       "      <td>1</td>\n",
       "      <td>0</td>\n",
       "      <td>NaN</td>\n",
       "      <td>Attchd</td>\n",
       "      <td>1993.0</td>\n",
       "      <td>Unf</td>\n",
       "      <td>2</td>\n",
       "      <td>480</td>\n",
       "      <td>143000</td>\n",
       "    </tr>\n",
       "    <tr>\n",
       "      <th>6</th>\n",
       "      <td>7</td>\n",
       "      <td>20</td>\n",
       "      <td>75.0</td>\n",
       "      <td>10084</td>\n",
       "      <td>Pave</td>\n",
       "      <td>1Fam</td>\n",
       "      <td>8</td>\n",
       "      <td>2004</td>\n",
       "      <td>1686</td>\n",
       "      <td>2</td>\n",
       "      <td>0</td>\n",
       "      <td>1</td>\n",
       "      <td>Gd</td>\n",
       "      <td>Attchd</td>\n",
       "      <td>2004.0</td>\n",
       "      <td>RFn</td>\n",
       "      <td>2</td>\n",
       "      <td>636</td>\n",
       "      <td>307000</td>\n",
       "    </tr>\n",
       "    <tr>\n",
       "      <th>7</th>\n",
       "      <td>8</td>\n",
       "      <td>60</td>\n",
       "      <td>NaN</td>\n",
       "      <td>10382</td>\n",
       "      <td>Pave</td>\n",
       "      <td>1Fam</td>\n",
       "      <td>7</td>\n",
       "      <td>1973</td>\n",
       "      <td>1107</td>\n",
       "      <td>2</td>\n",
       "      <td>1</td>\n",
       "      <td>2</td>\n",
       "      <td>TA</td>\n",
       "      <td>Attchd</td>\n",
       "      <td>1973.0</td>\n",
       "      <td>RFn</td>\n",
       "      <td>2</td>\n",
       "      <td>484</td>\n",
       "      <td>200000</td>\n",
       "    </tr>\n",
       "    <tr>\n",
       "      <th>8</th>\n",
       "      <td>9</td>\n",
       "      <td>50</td>\n",
       "      <td>51.0</td>\n",
       "      <td>6120</td>\n",
       "      <td>Pave</td>\n",
       "      <td>1Fam</td>\n",
       "      <td>7</td>\n",
       "      <td>1931</td>\n",
       "      <td>952</td>\n",
       "      <td>2</td>\n",
       "      <td>0</td>\n",
       "      <td>2</td>\n",
       "      <td>TA</td>\n",
       "      <td>Detchd</td>\n",
       "      <td>1931.0</td>\n",
       "      <td>Unf</td>\n",
       "      <td>2</td>\n",
       "      <td>468</td>\n",
       "      <td>129900</td>\n",
       "    </tr>\n",
       "    <tr>\n",
       "      <th>9</th>\n",
       "      <td>10</td>\n",
       "      <td>190</td>\n",
       "      <td>50.0</td>\n",
       "      <td>7420</td>\n",
       "      <td>Pave</td>\n",
       "      <td>2fmCon</td>\n",
       "      <td>5</td>\n",
       "      <td>1939</td>\n",
       "      <td>991</td>\n",
       "      <td>1</td>\n",
       "      <td>0</td>\n",
       "      <td>2</td>\n",
       "      <td>TA</td>\n",
       "      <td>Attchd</td>\n",
       "      <td>1939.0</td>\n",
       "      <td>RFn</td>\n",
       "      <td>1</td>\n",
       "      <td>205</td>\n",
       "      <td>118000</td>\n",
       "    </tr>\n",
       "  </tbody>\n",
       "</table>\n",
       "</div>"
      ],
      "text/plain": [
       "   Id  MSSubClass  LotFrontage  LotArea Street BldgType  OverallQual  \\\n",
       "0   1          60         65.0     8450   Pave     1Fam            7   \n",
       "1   2          20         80.0     9600   Pave     1Fam            6   \n",
       "2   3          60         68.0    11250   Pave     1Fam            7   \n",
       "3   4          70         60.0     9550   Pave     1Fam            7   \n",
       "4   5          60         84.0    14260   Pave     1Fam            8   \n",
       "5   6          50         85.0    14115   Pave     1Fam            5   \n",
       "6   7          20         75.0    10084   Pave     1Fam            8   \n",
       "7   8          60          NaN    10382   Pave     1Fam            7   \n",
       "8   9          50         51.0     6120   Pave     1Fam            7   \n",
       "9  10         190         50.0     7420   Pave   2fmCon            5   \n",
       "\n",
       "   YearBuilt  TotalBsmtSF  FullBath  HalfBath  Fireplaces FireplaceQu  \\\n",
       "0       2003          856         2         1           0         NaN   \n",
       "1       1976         1262         2         0           1          TA   \n",
       "2       2001          920         2         1           1          TA   \n",
       "3       1915          756         1         0           1          Gd   \n",
       "4       2000         1145         2         1           1          TA   \n",
       "5       1993          796         1         1           0         NaN   \n",
       "6       2004         1686         2         0           1          Gd   \n",
       "7       1973         1107         2         1           2          TA   \n",
       "8       1931          952         2         0           2          TA   \n",
       "9       1939          991         1         0           2          TA   \n",
       "\n",
       "  GarageType  GarageYrBlt GarageFinish  GarageCars  GarageArea  SalePrice  \n",
       "0     Attchd       2003.0          RFn           2         548     208500  \n",
       "1     Attchd       1976.0          RFn           2         460     181500  \n",
       "2     Attchd       2001.0          RFn           2         608     223500  \n",
       "3     Detchd       1998.0          Unf           3         642     140000  \n",
       "4     Attchd       2000.0          RFn           3         836     250000  \n",
       "5     Attchd       1993.0          Unf           2         480     143000  \n",
       "6     Attchd       2004.0          RFn           2         636     307000  \n",
       "7     Attchd       1973.0          RFn           2         484     200000  \n",
       "8     Detchd       1931.0          Unf           2         468     129900  \n",
       "9     Attchd       1939.0          RFn           1         205     118000  "
      ]
     },
     "metadata": {},
     "execution_count": 5
    }
   ],
   "metadata": {}
  },
  {
   "cell_type": "markdown",
   "source": [
    "(c)Based on the size of the datafrane, (1460,19), the dataset contains 1460 samples.\n",
    "\n",
    "(d)This is an example of supervised learning because we are using data that is labeled. The inputs and outputs are known.\n",
    "\n",
    "(e) There are 18 independent:\n",
    "Id, MSSubClass, LotFrontage, LotArea, Street, BldgType, OverallQual, YearBuilt, TotalBsmtSF, FullBath, HalfBath, Fireplaces, FireplaceQu, GarageType, GarageYrBlt, GarageFinish, GarageCars, GarageArea\n",
    "\n",
    "(f) Dependent Variable is SalePrice\n",
    "\n",
    "(g) 6 Categorical Variables: ID, Street, BldgType, FireplaceQu, GarageType, GarageFinish \n",
    "MAYBE REDISCUSS"
   ],
   "metadata": {}
  },
  {
   "cell_type": "code",
   "execution_count": 6,
   "source": [
    "bins = np.linspace(housing_df.LotArea.min(), housing_df.LotArea.max(),1460) \n",
    "#1460 in np.linspace so that they have the same number of points... may need to go back to this\n",
    "sale_price = housing_df[['SalePrice']]\n",
    "print(housing_df.LotArea.min(),housing_df.LotArea.max())\n",
    "print(housing_df.SalePrice.min(), housing_df.SalePrice.max())\n",
    "\n",
    "#plt.plot(bins,sale_price)\n",
    "\n",
    "#plt.scatter(bins, sale_price)\n",
    "plt.scatter(housing_df.LotArea,housing_df.SalePrice)\n",
    "plt.xlabel('Lot Area')\n",
    "plt.ylabel('Sale Price')"
   ],
   "outputs": [
    {
     "output_type": "stream",
     "name": "stdout",
     "text": [
      "1300 215245\n",
      "34900 755000\n"
     ]
    },
    {
     "output_type": "execute_result",
     "data": {
      "text/plain": [
       "Text(0, 0.5, 'Sale Price')"
      ]
     },
     "metadata": {},
     "execution_count": 6
    },
    {
     "output_type": "display_data",
     "data": {
      "image/png": "[encoded data removed]",
      "text/plain": [
       "<Figure size 432x288 with 1 Axes>"
      ]
     },
     "metadata": {
      "needs_background": "light"
     }
    }
   ],
   "metadata": {}
  },
  {
   "cell_type": "markdown",
   "source": [
    "(h) Disregarding the outliers at the very ends of the plot, it appears that linear regression could be a good method to build a model. However, solely using LotArea is likely a very bad method and would be a poor predictor when compared to more robust methods which consider many dependent variables (multilinear regression)."
   ],
   "metadata": {}
  },
  {
   "cell_type": "code",
   "execution_count": 18,
   "source": [
    "#(i)\n",
    "\n",
    "#Drop rows from dataframe with certain conditions\n",
    "#https://www.geeksforgeeks.org/drop-rows-from-the-dataframe-based-on-certain-condition-applied-on-a-column/\n",
    "\n",
    "#Create a new dataframe in which we Filter out listings with Garage Area > 0, then plot that with sale price.\n",
    "housing_filtered = housing_df[housing_df['GarageArea'] > 0]\n",
    "print(housing_df.shape)\n",
    "print(housing_filtered.shape)\n",
    "housing_filtered.head()\n",
    "\n",
    "plt.scatter(housing_df['GarageArea'], housing_df['SalePrice'])\n",
    "plt.xlim(15,1500)\n",
    "#intechangeable line of code... cool\n",
    "#plt.scatter(housing_df.GarageArea, housing_df.SalePrice)"
   ],
   "outputs": [
    {
     "output_type": "stream",
     "name": "stdout",
     "text": [
      "(1460, 19)\n",
      "(1379, 19)\n"
     ]
    },
    {
     "output_type": "execute_result",
     "data": {
      "text/plain": [
       "(15.0, 1500.0)"
      ]
     },
     "metadata": {},
     "execution_count": 18
    },
    {
     "output_type": "display_data",
     "data": {
      "image/png": "[encoded data removed]",
      "text/plain": [
       "<Figure size 432x288 with 1 Axes>"
      ]
     },
     "metadata": {
      "needs_background": "light"
     }
    }
   ],
   "metadata": {}
  },
  {
   "cell_type": "markdown",
   "source": [
    "The plot seems to suggest that there is a relationship between Area lot and sale price. It could be a linear relationship of some sort, however there is a certain level of disorder associated with the data."
   ],
   "metadata": {}
  },
  {
   "cell_type": "markdown",
   "source": [
    "(2) LINEAR REGRESSION"
   ],
   "metadata": {}
  },
  {
   "cell_type": "code",
   "execution_count": 20,
   "source": [
    "#Import CSV file\n",
    "#Okay so whatever file we are reading has to be in the same \"directory\" as the python file\n",
    "df_data = pd.read_csv('exercise1_data.csv')\n",
    "#Forming Arrays\n",
    "X = df_data[['X1','X2','X3','X4']].to_numpy()\n",
    "Y = df_data['Y'].to_numpy()\n",
    "#to_numpy() makes an array\n",
    "Y = np.expand_dims(Y,axis=1)"
   ],
   "outputs": [],
   "metadata": {}
  },
  {
   "cell_type": "code",
   "execution_count": 21,
   "source": [
    "#Calculate value of m, m is the number of data entries\n",
    "size = df_data.shape\n",
    "print(size) #there are 1000 samples"
   ],
   "outputs": [
    {
     "output_type": "stream",
     "name": "stdout",
     "text": [
      "(1000, 6)\n"
     ]
    }
   ],
   "metadata": {}
  },
  {
   "cell_type": "markdown",
   "source": [
    "(a) m = 1000 (number of data entries)"
   ],
   "metadata": {}
  },
  {
   "cell_type": "code",
   "execution_count": 22,
   "source": [
    "#(b) we want to append an all ones column, first make column\n",
    "X_size = X.shape\n",
    "M = X_size[0]\n",
    "print(\"m = \", M)\n",
    "X_expanded = np.ones((X_size[0],5))\n",
    "X_expanded[:,1:5] = X\n",
    "\n",
    "print(X_expanded.shape)\n",
    "print(X_expanded)"
   ],
   "outputs": [
    {
     "output_type": "stream",
     "name": "stdout",
     "text": [
      "m =  1000\n",
      "(1000, 5)\n",
      "[[ 1.          1.13628767  0.67075584 -0.31658534 -1.75585788]\n",
      " [ 1.          1.85603065  1.93540733 -0.48997094 -0.38728799]\n",
      " [ 1.         -0.85757989 -0.79313091 -1.29775941  1.47715056]\n",
      " ...\n",
      " [ 1.          0.46581094  0.73576916 -0.29699876 -0.36531577]\n",
      " [ 1.         -0.12599579  2.23115351  0.27964412 -0.65317185]\n",
      " [ 1.         -1.26156445  0.84245211 -0.08320848  0.01189734]]\n"
     ]
    }
   ],
   "metadata": {}
  },
  {
   "cell_type": "code",
   "execution_count": 23,
   "source": [
    "#Building Regression Model.\n",
    "#Function that will conduct linear regression\n",
    "class Regression:\n",
    "    def __init__(self, x, y_train, alpha, m):\n",
    "        self.x = x\n",
    "        self.y_train = y_train\n",
    "        self.alpha = alpha\n",
    "        self.m = m\n",
    "        self.predictions = []\n",
    "        self.costs = []\n",
    "        self.theta = np.random.randn(5, 1)\n",
    "        \n",
    "    def predict(self):\n",
    "        self.predictions = self.x.dot(self.theta)\n",
    "        \n",
    "    def find_costs(self):\n",
    "        cost = np.sum((self.predictions - self.y_train)**2) / (2*self.m)\n",
    "        self.costs = np.append(self.costs, cost)\n",
    "        \n",
    "    def update(self):\n",
    "        grads = self.x.T.dot(self.x.dot(self.theta) - self.y_train) * 2/self.m\n",
    "        self.theta = self.theta - (self.alpha * grads)\n",
    "        self.predict()\n",
    "        self.find_costs()\n",
    "        \n",
    "            \n",
    "    def get_costs(self):\n",
    "        return self.costs\n",
    "    \n",
    "    def get_theta(self):\n",
    "        return self.theta"
   ],
   "outputs": [],
   "metadata": {}
  },
  {
   "cell_type": "code",
   "execution_count": 25,
   "source": [
    "#(C)\n",
    "c_lin_reg = Regression(X_expanded, Y, 0.1/M, M)\n",
    "for i in range(1000):\n",
    "    c_lin_reg.update()\n",
    "costs = c_lin_reg.get_costs()\n",
    "theta = c_lin_reg.get_theta()\n",
    "print(\"Coefficients found:\\n\", theta)\n",
    "print(\"Final Model: Y = \", theta[0], \" + \", theta[1], \"X1 + \", theta[2], \"X2 + \", theta[3], \"X3 + \", \n",
    "     theta[4], \"X4\")\n",
    "plt.title(\"J(Theta), alpha = 0.1/m\")\n",
    "plt.xlabel(\"Iteration\")\n",
    "plt.ylabel(\"J(Theta)\")\n",
    "plt.plot(range(1000), costs, '.')\n"
   ],
   "outputs": [
    {
     "output_type": "stream",
     "name": "stdout",
     "text": [
      "Coefficients found:\n",
      " [[ 1.3690107 ]\n",
      " [ 1.36897612]\n",
      " [ 0.56551179]\n",
      " [-0.27195012]\n",
      " [-2.25369189]]\n",
      "Final Model: Y =  [1.3690107]  +  [1.36897612] X1 +  [0.56551179] X2 +  [-0.27195012] X3 +  [-2.25369189] X4\n"
     ]
    },
    {
     "output_type": "execute_result",
     "data": {
      "text/plain": [
       "[<matplotlib.lines.Line2D at 0x124a33d30>]"
      ]
     },
     "metadata": {},
     "execution_count": 25
    },
    {
     "output_type": "display_data",
     "data": {
      "image/png": "[encoded data removed]",
      "text/plain": [
       "<Figure size 432x288 with 1 Axes>"
      ]
     },
     "metadata": {
      "needs_background": "light"
     }
    }
   ],
   "metadata": {}
  },
  {
   "cell_type": "code",
   "execution_count": 28,
   "source": [
    "#(D) do it over except alpha is 0.01\n",
    "lin_reg_d = Regression(X_expanded, Y, 0.01/M, M)\n",
    "for i in range(1000):\n",
    "    lin_reg_d.update()\n",
    "costs_d = lin_reg_d.get_costs()\n",
    "theta_d = lin_reg_d.get_theta()\n",
    "print(\"Coefficients:\\n\", theta_d)\n",
    "print(\"Linear Regression Model: Y = \", theta_d[0], \" + \", theta_d[1], \"X1 + \", theta_d[2], \"X2 + \", theta_d[3], \"X3 + \", \n",
    "     theta_d[4], \"X4\")\n",
    "plt.title(\"J(Theta), alpha = 0.01/m\")\n",
    "plt.xlabel(\"Iteration\")\n",
    "plt.ylabel(\"J(Theta)\")\n",
    "plt.plot(range(1000), costs_d, '.')"
   ],
   "outputs": [
    {
     "output_type": "stream",
     "name": "stdout",
     "text": [
      "Coefficients:\n",
      " [[ 0.53981032]\n",
      " [ 0.70913068]\n",
      " [ 0.09711777]\n",
      " [ 0.22107045]\n",
      " [-0.1465913 ]]\n",
      "Linear Regression Model: Y =  [0.53981032]  +  [0.70913068] X1 +  [0.09711777] X2 +  [0.22107045] X3 +  [-0.1465913] X4\n"
     ]
    },
    {
     "output_type": "execute_result",
     "data": {
      "text/plain": [
       "[<matplotlib.lines.Line2D at 0x124614820>]"
      ]
     },
     "metadata": {},
     "execution_count": 28
    },
    {
     "output_type": "display_data",
     "data": {
      "image/png": "[encoded data removed]",
      "text/plain": [
       "<Figure size 432x288 with 1 Axes>"
      ]
     },
     "metadata": {
      "needs_background": "light"
     }
    }
   ],
   "metadata": {}
  },
  {
   "cell_type": "code",
   "execution_count": 29,
   "source": [
    "lin_reg_e = Regression(X_expanded, Y, 0.01, M)\n",
    "for i in range(1000):\n",
    "    lin_reg_e.update()\n",
    "cost_e = lin_reg_e.get_costs()\n",
    "theta_e = lin_reg_e.get_theta()\n",
    "print(\"Coefficients:\\n\", theta_e)\n",
    "print(\"Linear Regression Model: Y = \", theta_e[0], \" + \", theta_e[1], \"X1 + \", theta_e[2], \"X2 + \", theta_e[3], \"X3 + \", \n",
    "     theta_e[4], \"X4\")\n",
    "plt.title(\"J(Theta), alpha = 0.01\")\n",
    "plt.xlabel(\"Iteration \")\n",
    "plt.ylabel(\"J(Theta)\")\n",
    "plt.plot(range(1000), cost_e, '.')"
   ],
   "outputs": [
    {
     "output_type": "stream",
     "name": "stdout",
     "text": [
      "Coefficients:\n",
      " [[ 4.99633837]\n",
      " [10.00002711]\n",
      " [ 0.50231018]\n",
      " [ 3.00005796]\n",
      " [-9.99984167]]\n",
      "Linear Regression Model: Y =  [4.99633837]  +  [10.00002711] X1 +  [0.50231018] X2 +  [3.00005796] X3 +  [-9.99984167] X4\n"
     ]
    },
    {
     "output_type": "execute_result",
     "data": {
      "text/plain": [
       "[<matplotlib.lines.Line2D at 0x124463b80>]"
      ]
     },
     "metadata": {},
     "execution_count": 29
    },
    {
     "output_type": "display_data",
     "data": {
      "image/png": "[encoded data removed]",
      "text/plain": [
       "<Figure size 432x288 with 1 Axes>"
      ]
     },
     "metadata": {
      "needs_background": "light"
     }
    }
   ],
   "metadata": {}
  },
  {
   "cell_type": "code",
   "execution_count": 30,
   "source": [
    "ling_reg_f = Regression(X_expanded, Y, 0.001, M)\n",
    "for i in range(1000):\n",
    "    ling_reg_f.update()\n",
    "cost_f = ling_reg_f.get_costs()\n",
    "theta_f = ling_reg_f.get_theta()\n",
    "print(\"Coefficients:\\n\", theta_f)\n",
    "print(\"Linear Regression Model: Y = \", theta_f[0], \" + \", theta_f[1], \"X1 + \", theta_f[2], \"X2 + \", theta_f[3], \"X3 + \", \n",
    "     theta_f[4], \"X4\")\n",
    "plt.title(\"J(Theta)  alpha = 0.001\")\n",
    "plt.xlabel(\"Iteration\")\n",
    "plt.ylabel(\"J(Theta)\")\n",
    "plt.plot(range(1000), cost_f, '.')"
   ],
   "outputs": [
    {
     "output_type": "stream",
     "name": "stdout",
     "text": [
      "Coefficients:\n",
      " [[ 3.08076429]\n",
      " [ 8.96561804]\n",
      " [ 1.62234625]\n",
      " [ 2.76084737]\n",
      " [-8.64810198]]\n",
      "Linear Regression Model: Y =  [3.08076429]  +  [8.96561804] X1 +  [1.62234625] X2 +  [2.76084737] X3 +  [-8.64810198] X4\n"
     ]
    },
    {
     "output_type": "execute_result",
     "data": {
      "text/plain": [
       "[<matplotlib.lines.Line2D at 0x12448a5b0>]"
      ]
     },
     "metadata": {},
     "execution_count": 30
    },
    {
     "output_type": "display_data",
     "data": {
      "image/png": "[encoded data removed]",
      "text/plain": [
       "<Figure size 432x288 with 1 Axes>"
      ]
     },
     "metadata": {
      "needs_background": "light"
     }
    }
   ],
   "metadata": {}
  }
 ],
 "metadata": {
  "orig_nbformat": 4,
  "language_info": {
   "name": "python",
   "version": "3.9.7",
   "mimetype": "text/x-python",
   "codemirror_mode": {
    "name": "ipython",
    "version": 3
   },
   "pygments_lexer": "ipython3",
   "nbconvert_exporter": "python",
   "file_extension": ".py"
  },
  "kernelspec": {
   "name": "python3",
   "display_name": "Python 3.9.7 64-bit ('base': conda)"
  },
  "interpreter": {
   "hash": "f8da36fe03a8d68df7905f53edb84b8969ab796b84cb0bf3b1de2c7120aa3235"
  }
 },
 "nbformat": 4,
 "nbformat_minor": 2
}