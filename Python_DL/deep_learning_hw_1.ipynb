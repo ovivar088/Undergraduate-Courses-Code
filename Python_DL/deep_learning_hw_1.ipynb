{
 "cells": [
  {
   "cell_type": "markdown",
   "source": [
    "Deep Learning Homework 1\n",
    "\n",
    "Problem 1 - Practice the computation of KNN\n"
   ],
   "metadata": {}
  },
  {
   "cell_type": "code",
   "execution_count": 21,
   "source": [
    "import pandas as pd\n",
    "import numpy as np"
   ],
   "outputs": [],
   "metadata": {}
  },
  {
   "cell_type": "code",
   "execution_count": 22,
   "source": [
    "#CREATING DATAFRAME\n",
    "info = {'x' : [0,0,1,1,1,2,1,2,-1,0,0,-1],\n",
    "        'y' : [1,1,2,2,2,2,2,2,-1,-1,-1,-2],\n",
    "        'z' : [0,1,1,0,2,2,-1,3,-1,-2,-1,1],\n",
    "        'class' : ['a','a','a','a','b','b','b','b','c','c','c','c'] }\n",
    "#make a pandas table\n",
    "df = pd.DataFrame(info)\n",
    "#print(df)\n",
    "\n",
    "inputs = df[['x','y','z']]\n",
    "output = df['class'].values\n",
    "print(inputs)\n",
    "print(output)\n"
   ],
   "outputs": [
    {
     "output_type": "stream",
     "name": "stdout",
     "text": [
      "    x  y  z\n",
      "0   0  1  0\n",
      "1   0  1  1\n",
      "2   1  2  1\n",
      "3   1  2  0\n",
      "4   1  2  2\n",
      "5   2  2  2\n",
      "6   1  2 -1\n",
      "7   2  2  3\n",
      "8  -1 -1 -1\n",
      "9   0 -1 -2\n",
      "10  0 -1 -1\n",
      "11 -1 -2  1\n",
      "['a' 'a' 'a' 'a' 'b' 'b' 'b' 'b' 'c' 'c' 'c' 'c']\n"
     ]
    }
   ],
   "metadata": {}
  },
  {
   "cell_type": "code",
   "execution_count": 23,
   "source": [
    "#building model\n",
    "from sklearn.neighbors import KNeighborsClassifier\n",
    "\n",
    "knn_1 = KNeighborsClassifier(n_neighbors=1, p =2).fit(inputs,output)\n",
    "knn_2 = KNeighborsClassifier(n_neighbors=2, p=2).fit(inputs,output)\n",
    "knn_3 = KNeighborsClassifier(n_neighbors=3, p=2).fit(inputs,output)"
   ],
   "outputs": [],
   "metadata": {}
  },
  {
   "cell_type": "code",
   "execution_count": 24,
   "source": [
    "#testing data point\n",
    "test_data = {'x' : [1],\n",
    "             'y' : [0],\n",
    "             'z' : [1],\n",
    "            }\n",
    "#point into datafram\n",
    "test_df = pd.DataFrame(test_data)\n",
    "print(test_df)\n",
    "\n",
    "#k=1 output\n",
    "output_1 = knn_1.predict(test_df)\n",
    "print(\"Output class k=1 : \", output_1)\n",
    "#k=2 output\n",
    "output_2 = knn_2.predict(test_df)\n",
    "print(\"Output class k=2 : \", output_2)\n",
    "#k=3 output\n",
    "output_3 = knn_3.predict(test_df)\n",
    "print(\"Output class k=3 : \", output_3)"
   ],
   "outputs": [
    {
     "output_type": "stream",
     "name": "stdout",
     "text": [
      "   x  y  z\n",
      "0  1  0  1\n",
      "Output class k=1 :  ['a']\n",
      "Output class k=2 :  ['a']\n",
      "Output class k=3 :  ['a']\n"
     ]
    }
   ],
   "metadata": {}
  },
  {
   "cell_type": "markdown",
   "source": [
    "Problem 2 - KNN for Simple Data"
   ],
   "metadata": {}
  },
  {
   "cell_type": "code",
   "execution_count": 25,
   "source": [
    "#load in data\n",
    "x_y= np.load(\"knn_minitrain.npy\")\n",
    "labels = np.load(\"knn_minitrain_label.npy\")\n",
    "#im too good...\n",
    "x = x_y[:,0]\n",
    "y = x_y[:,1]\n",
    "data = { 'x' : x,\n",
    "         'y' : y,\n",
    "        'label' : labels}\n",
    "#making of dataframe:\n",
    "df_ktrain = pd.DataFrame(data)\n",
    "df_input = df_ktrain[['x','y']]\n",
    "df_output = df_ktrain['label']\n",
    "\n",
    "print(x_y.shape)"
   ],
   "outputs": [
    {
     "output_type": "stream",
     "name": "stdout",
     "text": [
      "(40, 2)\n"
     ]
    }
   ],
   "metadata": {}
  },
  {
   "cell_type": "code",
   "execution_count": 26,
   "source": [
    "#We Will now make a KNN model. \n",
    "from sklearn.neighbors import KNeighborsClassifier\n",
    "\n",
    "#p=2 is l2 distance (euclidean)\n",
    "#Common practice is to set k = sqrt(n) --> sqrt(40) ~ 6\n",
    "kclassifier = KNeighborsClassifier(n_neighbors=6, p = 2).fit(df_input,df_output)"
   ],
   "outputs": [],
   "metadata": {}
  },
  {
   "cell_type": "code",
   "execution_count": 27,
   "source": [
    "#Generate Random Points\n",
    "import random\n",
    "#generating a sequence of random numbers\n",
    "x_test = random.sample(range(0,20),10)\n",
    "y_test = random.sample(range(0,20),10)\n",
    "\n",
    "data_test = { 'x' : x_test, 'y' : y_test}\n",
    "data_df_test = pd.DataFrame(data_test)\n",
    "\n",
    "test_output = kclassifier.predict(data_df_test)\n",
    "print(test_output)"
   ],
   "outputs": [
    {
     "output_type": "stream",
     "name": "stdout",
     "text": [
      "[1 0 0 0 2 1 2 3 3 1]\n"
     ]
    }
   ],
   "metadata": {}
  },
  {
   "cell_type": "code",
   "execution_count": 31,
   "source": [
    "#Plotting \n",
    "import matplotlib.pyplot as plt\n",
    "import matplotlib.colors as pltc\n",
    "colors = [\"red\", \"blue\", \"yellow\", \"black\"]\n",
    "colormap = pltc.ListedColormap(colors)\n",
    "plt.scatter(x_test,y_test, c = test_output, cmap =colormap, marker = '^')\n",
    "plt.scatter(x,y, c =labels, cmap = colormap)"
   ],
   "outputs": [
    {
     "output_type": "execute_result",
     "data": {
      "text/plain": [
       "<matplotlib.collections.PathCollection at 0x11c94b250>"
      ]
     },
     "metadata": {},
     "execution_count": 31
    },
    {
     "output_type": "display_data",
     "data": {
      "image/png": "[encoded data removed]",
      "text/plain": [
       "<Figure size 432x288 with 1 Axes>"
      ]
     },
     "metadata": {
      "needs_background": "light"
     }
    }
   ],
   "metadata": {}
  }
 ],
 "metadata": {
  "orig_nbformat": 4,
  "language_info": {
   "name": "python",
   "version": "3.9.7",
   "mimetype": "text/x-python",
   "codemirror_mode": {
    "name": "ipython",
    "version": 3
   },
   "pygments_lexer": "ipython3",
   "nbconvert_exporter": "python",
   "file_extension": ".py"
  },
  "kernelspec": {
   "name": "python3",
   "display_name": "Python 3.9.7 64-bit ('base': conda)"
  },
  "interpreter": {
   "hash": "f8da36fe03a8d68df7905f53edb84b8969ab796b84cb0bf3b1de2c7120aa3235"
  }
 },
 "nbformat": 4,
 "nbformat_minor": 2
}